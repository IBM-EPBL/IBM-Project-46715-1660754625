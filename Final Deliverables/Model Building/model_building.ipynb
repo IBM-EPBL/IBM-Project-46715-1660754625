{
  "cells": [
    {
      "cell_type": "code",
      "execution_count": null,
      "metadata": {
        "id": "0Zv2vzJRWv97"
      },
      "outputs": [],
      "source": [
        "from google.colab import drive"
      ]
    },
    {
      "cell_type": "code",
      "source": [
        "drive.mount('/content/drive')"
      ],
      "metadata": {
        "id": "7wdFKAgX8JCZ",
        "colab": {
          "base_uri": "https://localhost:8080/"
        },
        "outputId": "42927385-5ccb-4907-eb3a-b5076135b9a3"
      },
      "execution_count": null,
      "outputs": [
        {
          "output_type": "stream",
          "name": "stdout",
          "text": [
            "Mounted at /content/drive\n"
          ]
        }
      ]
    },
    {
      "cell_type": "code",
      "source": [
        "import pandas as pd\n",
        "import numpy as np\n",
        "import seaborn as sns\n",
        "import matplotlib.pyplot as plt"
      ],
      "metadata": {
        "id": "JhZxFzXM8x4K"
      },
      "execution_count": null,
      "outputs": []
    },
    {
      "cell_type": "code",
      "source": [
        "data =pd.read_csv('/content/drive/MyDrive/Nalaiyathiran/dataset_website.csv')"
      ],
      "metadata": {
        "id": "3QE3Aciv87Ba"
      },
      "execution_count": null,
      "outputs": []
    },
    {
      "cell_type": "code",
      "source": [
        "data.head()"
      ],
      "metadata": {
        "colab": {
          "base_uri": "https://localhost:8080/",
          "height": 299
        },
        "id": "Lqo4ueQF9tq0",
        "outputId": "253c7832-7559-4e92-a1de-356d7f95681c"
      },
      "execution_count": null,
      "outputs": [
        {
          "output_type": "execute_result",
          "data": {
            "text/plain": [
              "   index  having_IPhaving_IP_Address  URLURL_Length  Shortining_Service  \\\n",
              "0      1                          -1              1                   1   \n",
              "1      2                           1              1                   1   \n",
              "2      3                           1              0                   1   \n",
              "3      4                           1              0                   1   \n",
              "4      5                           1              0                  -1   \n",
              "\n",
              "   having_At_Symbol  double_slash_redirecting  Prefix_Suffix  \\\n",
              "0                 1                        -1             -1   \n",
              "1                 1                         1             -1   \n",
              "2                 1                         1             -1   \n",
              "3                 1                         1             -1   \n",
              "4                 1                         1             -1   \n",
              "\n",
              "   having_Sub_Domain  SSLfinal_State  Domain_registeration_length  ...  \\\n",
              "0                 -1              -1                           -1  ...   \n",
              "1                  0               1                           -1  ...   \n",
              "2                 -1              -1                           -1  ...   \n",
              "3                 -1              -1                            1  ...   \n",
              "4                  1               1                           -1  ...   \n",
              "\n",
              "   popUpWidnow  Iframe  age_of_domain  DNSRecord  web_traffic  Page_Rank  \\\n",
              "0            1       1             -1         -1           -1         -1   \n",
              "1            1       1             -1         -1            0         -1   \n",
              "2            1       1              1         -1            1         -1   \n",
              "3            1       1             -1         -1            1         -1   \n",
              "4           -1       1             -1         -1            0         -1   \n",
              "\n",
              "   Google_Index  Links_pointing_to_page  Statistical_report  Result  \n",
              "0             1                       1                  -1      -1  \n",
              "1             1                       1                   1      -1  \n",
              "2             1                       0                  -1      -1  \n",
              "3             1                      -1                   1      -1  \n",
              "4             1                       1                   1       1  \n",
              "\n",
              "[5 rows x 32 columns]"
            ],
            "text/html": [
              "\n",
              "  <div id=\"df-4228b367-eea2-430d-b659-86ef8f15c239\">\n",
              "    <div class=\"colab-df-container\">\n",
              "      <div>\n",
              "<style scoped>\n",
              "    .dataframe tbody tr th:only-of-type {\n",
              "        vertical-align: middle;\n",
              "    }\n",
              "\n",
              "    .dataframe tbody tr th {\n",
              "        vertical-align: top;\n",
              "    }\n",
              "\n",
              "    .dataframe thead th {\n",
              "        text-align: right;\n",
              "    }\n",
              "</style>\n",
              "<table border=\"1\" class=\"dataframe\">\n",
              "  <thead>\n",
              "    <tr style=\"text-align: right;\">\n",
              "      <th></th>\n",
              "      <th>index</th>\n",
              "      <th>having_IPhaving_IP_Address</th>\n",
              "      <th>URLURL_Length</th>\n",
              "      <th>Shortining_Service</th>\n",
              "      <th>having_At_Symbol</th>\n",
              "      <th>double_slash_redirecting</th>\n",
              "      <th>Prefix_Suffix</th>\n",
              "      <th>having_Sub_Domain</th>\n",
              "      <th>SSLfinal_State</th>\n",
              "      <th>Domain_registeration_length</th>\n",
              "      <th>...</th>\n",
              "      <th>popUpWidnow</th>\n",
              "      <th>Iframe</th>\n",
              "      <th>age_of_domain</th>\n",
              "      <th>DNSRecord</th>\n",
              "      <th>web_traffic</th>\n",
              "      <th>Page_Rank</th>\n",
              "      <th>Google_Index</th>\n",
              "      <th>Links_pointing_to_page</th>\n",
              "      <th>Statistical_report</th>\n",
              "      <th>Result</th>\n",
              "    </tr>\n",
              "  </thead>\n",
              "  <tbody>\n",
              "    <tr>\n",
              "      <th>0</th>\n",
              "      <td>1</td>\n",
              "      <td>-1</td>\n",
              "      <td>1</td>\n",
              "      <td>1</td>\n",
              "      <td>1</td>\n",
              "      <td>-1</td>\n",
              "      <td>-1</td>\n",
              "      <td>-1</td>\n",
              "      <td>-1</td>\n",
              "      <td>-1</td>\n",
              "      <td>...</td>\n",
              "      <td>1</td>\n",
              "      <td>1</td>\n",
              "      <td>-1</td>\n",
              "      <td>-1</td>\n",
              "      <td>-1</td>\n",
              "      <td>-1</td>\n",
              "      <td>1</td>\n",
              "      <td>1</td>\n",
              "      <td>-1</td>\n",
              "      <td>-1</td>\n",
              "    </tr>\n",
              "    <tr>\n",
              "      <th>1</th>\n",
              "      <td>2</td>\n",
              "      <td>1</td>\n",
              "      <td>1</td>\n",
              "      <td>1</td>\n",
              "      <td>1</td>\n",
              "      <td>1</td>\n",
              "      <td>-1</td>\n",
              "      <td>0</td>\n",
              "      <td>1</td>\n",
              "      <td>-1</td>\n",
              "      <td>...</td>\n",
              "      <td>1</td>\n",
              "      <td>1</td>\n",
              "      <td>-1</td>\n",
              "      <td>-1</td>\n",
              "      <td>0</td>\n",
              "      <td>-1</td>\n",
              "      <td>1</td>\n",
              "      <td>1</td>\n",
              "      <td>1</td>\n",
              "      <td>-1</td>\n",
              "    </tr>\n",
              "    <tr>\n",
              "      <th>2</th>\n",
              "      <td>3</td>\n",
              "      <td>1</td>\n",
              "      <td>0</td>\n",
              "      <td>1</td>\n",
              "      <td>1</td>\n",
              "      <td>1</td>\n",
              "      <td>-1</td>\n",
              "      <td>-1</td>\n",
              "      <td>-1</td>\n",
              "      <td>-1</td>\n",
              "      <td>...</td>\n",
              "      <td>1</td>\n",
              "      <td>1</td>\n",
              "      <td>1</td>\n",
              "      <td>-1</td>\n",
              "      <td>1</td>\n",
              "      <td>-1</td>\n",
              "      <td>1</td>\n",
              "      <td>0</td>\n",
              "      <td>-1</td>\n",
              "      <td>-1</td>\n",
              "    </tr>\n",
              "    <tr>\n",
              "      <th>3</th>\n",
              "      <td>4</td>\n",
              "      <td>1</td>\n",
              "      <td>0</td>\n",
              "      <td>1</td>\n",
              "      <td>1</td>\n",
              "      <td>1</td>\n",
              "      <td>-1</td>\n",
              "      <td>-1</td>\n",
              "      <td>-1</td>\n",
              "      <td>1</td>\n",
              "      <td>...</td>\n",
              "      <td>1</td>\n",
              "      <td>1</td>\n",
              "      <td>-1</td>\n",
              "      <td>-1</td>\n",
              "      <td>1</td>\n",
              "      <td>-1</td>\n",
              "      <td>1</td>\n",
              "      <td>-1</td>\n",
              "      <td>1</td>\n",
              "      <td>-1</td>\n",
              "    </tr>\n",
              "    <tr>\n",
              "      <th>4</th>\n",
              "      <td>5</td>\n",
              "      <td>1</td>\n",
              "      <td>0</td>\n",
              "      <td>-1</td>\n",
              "      <td>1</td>\n",
              "      <td>1</td>\n",
              "      <td>-1</td>\n",
              "      <td>1</td>\n",
              "      <td>1</td>\n",
              "      <td>-1</td>\n",
              "      <td>...</td>\n",
              "      <td>-1</td>\n",
              "      <td>1</td>\n",
              "      <td>-1</td>\n",
              "      <td>-1</td>\n",
              "      <td>0</td>\n",
              "      <td>-1</td>\n",
              "      <td>1</td>\n",
              "      <td>1</td>\n",
              "      <td>1</td>\n",
              "      <td>1</td>\n",
              "    </tr>\n",
              "  </tbody>\n",
              "</table>\n",
              "<p>5 rows × 32 columns</p>\n",
              "</div>\n",
              "      <button class=\"colab-df-convert\" onclick=\"convertToInteractive('df-4228b367-eea2-430d-b659-86ef8f15c239')\"\n",
              "              title=\"Convert this dataframe to an interactive table.\"\n",
              "              style=\"display:none;\">\n",
              "        \n",
              "  <svg xmlns=\"http://www.w3.org/2000/svg\" height=\"24px\"viewBox=\"0 0 24 24\"\n",
              "       width=\"24px\">\n",
              "    <path d=\"M0 0h24v24H0V0z\" fill=\"none\"/>\n",
              "    <path d=\"M18.56 5.44l.94 2.06.94-2.06 2.06-.94-2.06-.94-.94-2.06-.94 2.06-2.06.94zm-11 1L8.5 8.5l.94-2.06 2.06-.94-2.06-.94L8.5 2.5l-.94 2.06-2.06.94zm10 10l.94 2.06.94-2.06 2.06-.94-2.06-.94-.94-2.06-.94 2.06-2.06.94z\"/><path d=\"M17.41 7.96l-1.37-1.37c-.4-.4-.92-.59-1.43-.59-.52 0-1.04.2-1.43.59L10.3 9.45l-7.72 7.72c-.78.78-.78 2.05 0 2.83L4 21.41c.39.39.9.59 1.41.59.51 0 1.02-.2 1.41-.59l7.78-7.78 2.81-2.81c.8-.78.8-2.07 0-2.86zM5.41 20L4 18.59l7.72-7.72 1.47 1.35L5.41 20z\"/>\n",
              "  </svg>\n",
              "      </button>\n",
              "      \n",
              "  <style>\n",
              "    .colab-df-container {\n",
              "      display:flex;\n",
              "      flex-wrap:wrap;\n",
              "      gap: 12px;\n",
              "    }\n",
              "\n",
              "    .colab-df-convert {\n",
              "      background-color: #E8F0FE;\n",
              "      border: none;\n",
              "      border-radius: 50%;\n",
              "      cursor: pointer;\n",
              "      display: none;\n",
              "      fill: #1967D2;\n",
              "      height: 32px;\n",
              "      padding: 0 0 0 0;\n",
              "      width: 32px;\n",
              "    }\n",
              "\n",
              "    .colab-df-convert:hover {\n",
              "      background-color: #E2EBFA;\n",
              "      box-shadow: 0px 1px 2px rgba(60, 64, 67, 0.3), 0px 1px 3px 1px rgba(60, 64, 67, 0.15);\n",
              "      fill: #174EA6;\n",
              "    }\n",
              "\n",
              "    [theme=dark] .colab-df-convert {\n",
              "      background-color: #3B4455;\n",
              "      fill: #D2E3FC;\n",
              "    }\n",
              "\n",
              "    [theme=dark] .colab-df-convert:hover {\n",
              "      background-color: #434B5C;\n",
              "      box-shadow: 0px 1px 3px 1px rgba(0, 0, 0, 0.15);\n",
              "      filter: drop-shadow(0px 1px 2px rgba(0, 0, 0, 0.3));\n",
              "      fill: #FFFFFF;\n",
              "    }\n",
              "  </style>\n",
              "\n",
              "      <script>\n",
              "        const buttonEl =\n",
              "          document.querySelector('#df-4228b367-eea2-430d-b659-86ef8f15c239 button.colab-df-convert');\n",
              "        buttonEl.style.display =\n",
              "          google.colab.kernel.accessAllowed ? 'block' : 'none';\n",
              "\n",
              "        async function convertToInteractive(key) {\n",
              "          const element = document.querySelector('#df-4228b367-eea2-430d-b659-86ef8f15c239');\n",
              "          const dataTable =\n",
              "            await google.colab.kernel.invokeFunction('convertToInteractive',\n",
              "                                                     [key], {});\n",
              "          if (!dataTable) return;\n",
              "\n",
              "          const docLinkHtml = 'Like what you see? Visit the ' +\n",
              "            '<a target=\"_blank\" href=https://colab.research.google.com/notebooks/data_table.ipynb>data table notebook</a>'\n",
              "            + ' to learn more about interactive tables.';\n",
              "          element.innerHTML = '';\n",
              "          dataTable['output_type'] = 'display_data';\n",
              "          await google.colab.output.renderOutput(dataTable, element);\n",
              "          const docLink = document.createElement('div');\n",
              "          docLink.innerHTML = docLinkHtml;\n",
              "          element.appendChild(docLink);\n",
              "        }\n",
              "      </script>\n",
              "    </div>\n",
              "  </div>\n",
              "  "
            ]
          },
          "metadata": {},
          "execution_count": 22
        }
      ]
    },
    {
      "cell_type": "code",
      "source": [
        "data.info()\n",
        "data.isnull().any()"
      ],
      "metadata": {
        "colab": {
          "base_uri": "https://localhost:8080/"
        },
        "id": "H77i-GTg98c7",
        "outputId": "d495c927-e05e-4914-e58e-1be9ca9208c1"
      },
      "execution_count": null,
      "outputs": [
        {
          "output_type": "stream",
          "name": "stdout",
          "text": [
            "<class 'pandas.core.frame.DataFrame'>\n",
            "RangeIndex: 11055 entries, 0 to 11054\n",
            "Data columns (total 32 columns):\n",
            " #   Column                       Non-Null Count  Dtype\n",
            "---  ------                       --------------  -----\n",
            " 0   index                        11055 non-null  int64\n",
            " 1   having_IPhaving_IP_Address   11055 non-null  int64\n",
            " 2   URLURL_Length                11055 non-null  int64\n",
            " 3   Shortining_Service           11055 non-null  int64\n",
            " 4   having_At_Symbol             11055 non-null  int64\n",
            " 5   double_slash_redirecting     11055 non-null  int64\n",
            " 6   Prefix_Suffix                11055 non-null  int64\n",
            " 7   having_Sub_Domain            11055 non-null  int64\n",
            " 8   SSLfinal_State               11055 non-null  int64\n",
            " 9   Domain_registeration_length  11055 non-null  int64\n",
            " 10  Favicon                      11055 non-null  int64\n",
            " 11  port                         11055 non-null  int64\n",
            " 12  HTTPS_token                  11055 non-null  int64\n",
            " 13  Request_URL                  11055 non-null  int64\n",
            " 14  URL_of_Anchor                11055 non-null  int64\n",
            " 15  Links_in_tags                11055 non-null  int64\n",
            " 16  SFH                          11055 non-null  int64\n",
            " 17  Submitting_to_email          11055 non-null  int64\n",
            " 18  Abnormal_URL                 11055 non-null  int64\n",
            " 19  Redirect                     11055 non-null  int64\n",
            " 20  on_mouseover                 11055 non-null  int64\n",
            " 21  RightClick                   11055 non-null  int64\n",
            " 22  popUpWidnow                  11055 non-null  int64\n",
            " 23  Iframe                       11055 non-null  int64\n",
            " 24  age_of_domain                11055 non-null  int64\n",
            " 25  DNSRecord                    11055 non-null  int64\n",
            " 26  web_traffic                  11055 non-null  int64\n",
            " 27  Page_Rank                    11055 non-null  int64\n",
            " 28  Google_Index                 11055 non-null  int64\n",
            " 29  Links_pointing_to_page       11055 non-null  int64\n",
            " 30  Statistical_report           11055 non-null  int64\n",
            " 31  Result                       11055 non-null  int64\n",
            "dtypes: int64(32)\n",
            "memory usage: 2.7 MB\n"
          ]
        },
        {
          "output_type": "execute_result",
          "data": {
            "text/plain": [
              "index                          False\n",
              "having_IPhaving_IP_Address     False\n",
              "URLURL_Length                  False\n",
              "Shortining_Service             False\n",
              "having_At_Symbol               False\n",
              "double_slash_redirecting       False\n",
              "Prefix_Suffix                  False\n",
              "having_Sub_Domain              False\n",
              "SSLfinal_State                 False\n",
              "Domain_registeration_length    False\n",
              "Favicon                        False\n",
              "port                           False\n",
              "HTTPS_token                    False\n",
              "Request_URL                    False\n",
              "URL_of_Anchor                  False\n",
              "Links_in_tags                  False\n",
              "SFH                            False\n",
              "Submitting_to_email            False\n",
              "Abnormal_URL                   False\n",
              "Redirect                       False\n",
              "on_mouseover                   False\n",
              "RightClick                     False\n",
              "popUpWidnow                    False\n",
              "Iframe                         False\n",
              "age_of_domain                  False\n",
              "DNSRecord                      False\n",
              "web_traffic                    False\n",
              "Page_Rank                      False\n",
              "Google_Index                   False\n",
              "Links_pointing_to_page         False\n",
              "Statistical_report             False\n",
              "Result                         False\n",
              "dtype: bool"
            ]
          },
          "metadata": {},
          "execution_count": 23
        }
      ]
    },
    {
      "cell_type": "code",
      "source": [
        "data.describe()"
      ],
      "metadata": {
        "colab": {
          "base_uri": "https://localhost:8080/",
          "height": 394
        },
        "id": "S1pDrEJmnr4o",
        "outputId": "fbc2bf8a-7559-4aef-b173-c8cef524159f"
      },
      "execution_count": null,
      "outputs": [
        {
          "output_type": "execute_result",
          "data": {
            "text/plain": [
              "              index  having_IPhaving_IP_Address  URLURL_Length  \\\n",
              "count  11055.000000                11055.000000   11055.000000   \n",
              "mean    5528.000000                    0.313795      -0.633198   \n",
              "std     3191.447947                    0.949534       0.766095   \n",
              "min        1.000000                   -1.000000      -1.000000   \n",
              "25%     2764.500000                   -1.000000      -1.000000   \n",
              "50%     5528.000000                    1.000000      -1.000000   \n",
              "75%     8291.500000                    1.000000      -1.000000   \n",
              "max    11055.000000                    1.000000       1.000000   \n",
              "\n",
              "       Shortining_Service  having_At_Symbol  double_slash_redirecting  \\\n",
              "count        11055.000000      11055.000000              11055.000000   \n",
              "mean             0.738761          0.700588                  0.741474   \n",
              "std              0.673998          0.713598                  0.671011   \n",
              "min             -1.000000         -1.000000                 -1.000000   \n",
              "25%              1.000000          1.000000                  1.000000   \n",
              "50%              1.000000          1.000000                  1.000000   \n",
              "75%              1.000000          1.000000                  1.000000   \n",
              "max              1.000000          1.000000                  1.000000   \n",
              "\n",
              "       Prefix_Suffix  having_Sub_Domain  SSLfinal_State  \\\n",
              "count   11055.000000       11055.000000    11055.000000   \n",
              "mean       -0.734962           0.063953        0.250927   \n",
              "std         0.678139           0.817518        0.911892   \n",
              "min        -1.000000          -1.000000       -1.000000   \n",
              "25%        -1.000000          -1.000000       -1.000000   \n",
              "50%        -1.000000           0.000000        1.000000   \n",
              "75%        -1.000000           1.000000        1.000000   \n",
              "max         1.000000           1.000000        1.000000   \n",
              "\n",
              "       Domain_registeration_length  ...   popUpWidnow        Iframe  \\\n",
              "count                 11055.000000  ...  11055.000000  11055.000000   \n",
              "mean                     -0.336771  ...      0.613388      0.816915   \n",
              "std                       0.941629  ...      0.789818      0.576784   \n",
              "min                      -1.000000  ...     -1.000000     -1.000000   \n",
              "25%                      -1.000000  ...      1.000000      1.000000   \n",
              "50%                      -1.000000  ...      1.000000      1.000000   \n",
              "75%                       1.000000  ...      1.000000      1.000000   \n",
              "max                       1.000000  ...      1.000000      1.000000   \n",
              "\n",
              "       age_of_domain     DNSRecord   web_traffic     Page_Rank  Google_Index  \\\n",
              "count   11055.000000  11055.000000  11055.000000  11055.000000  11055.000000   \n",
              "mean        0.061239      0.377114      0.287291     -0.483673      0.721574   \n",
              "std         0.998168      0.926209      0.827733      0.875289      0.692369   \n",
              "min        -1.000000     -1.000000     -1.000000     -1.000000     -1.000000   \n",
              "25%        -1.000000     -1.000000      0.000000     -1.000000      1.000000   \n",
              "50%         1.000000      1.000000      1.000000     -1.000000      1.000000   \n",
              "75%         1.000000      1.000000      1.000000      1.000000      1.000000   \n",
              "max         1.000000      1.000000      1.000000      1.000000      1.000000   \n",
              "\n",
              "       Links_pointing_to_page  Statistical_report        Result  \n",
              "count            11055.000000        11055.000000  11055.000000  \n",
              "mean                 0.344007            0.719584      0.113885  \n",
              "std                  0.569944            0.694437      0.993539  \n",
              "min                 -1.000000           -1.000000     -1.000000  \n",
              "25%                  0.000000            1.000000     -1.000000  \n",
              "50%                  0.000000            1.000000      1.000000  \n",
              "75%                  1.000000            1.000000      1.000000  \n",
              "max                  1.000000            1.000000      1.000000  \n",
              "\n",
              "[8 rows x 32 columns]"
            ],
            "text/html": [
              "\n",
              "  <div id=\"df-00cf4587-e563-4bfd-a4e9-d0b80be91481\">\n",
              "    <div class=\"colab-df-container\">\n",
              "      <div>\n",
              "<style scoped>\n",
              "    .dataframe tbody tr th:only-of-type {\n",
              "        vertical-align: middle;\n",
              "    }\n",
              "\n",
              "    .dataframe tbody tr th {\n",
              "        vertical-align: top;\n",
              "    }\n",
              "\n",
              "    .dataframe thead th {\n",
              "        text-align: right;\n",
              "    }\n",
              "</style>\n",
              "<table border=\"1\" class=\"dataframe\">\n",
              "  <thead>\n",
              "    <tr style=\"text-align: right;\">\n",
              "      <th></th>\n",
              "      <th>index</th>\n",
              "      <th>having_IPhaving_IP_Address</th>\n",
              "      <th>URLURL_Length</th>\n",
              "      <th>Shortining_Service</th>\n",
              "      <th>having_At_Symbol</th>\n",
              "      <th>double_slash_redirecting</th>\n",
              "      <th>Prefix_Suffix</th>\n",
              "      <th>having_Sub_Domain</th>\n",
              "      <th>SSLfinal_State</th>\n",
              "      <th>Domain_registeration_length</th>\n",
              "      <th>...</th>\n",
              "      <th>popUpWidnow</th>\n",
              "      <th>Iframe</th>\n",
              "      <th>age_of_domain</th>\n",
              "      <th>DNSRecord</th>\n",
              "      <th>web_traffic</th>\n",
              "      <th>Page_Rank</th>\n",
              "      <th>Google_Index</th>\n",
              "      <th>Links_pointing_to_page</th>\n",
              "      <th>Statistical_report</th>\n",
              "      <th>Result</th>\n",
              "    </tr>\n",
              "  </thead>\n",
              "  <tbody>\n",
              "    <tr>\n",
              "      <th>count</th>\n",
              "      <td>11055.000000</td>\n",
              "      <td>11055.000000</td>\n",
              "      <td>11055.000000</td>\n",
              "      <td>11055.000000</td>\n",
              "      <td>11055.000000</td>\n",
              "      <td>11055.000000</td>\n",
              "      <td>11055.000000</td>\n",
              "      <td>11055.000000</td>\n",
              "      <td>11055.000000</td>\n",
              "      <td>11055.000000</td>\n",
              "      <td>...</td>\n",
              "      <td>11055.000000</td>\n",
              "      <td>11055.000000</td>\n",
              "      <td>11055.000000</td>\n",
              "      <td>11055.000000</td>\n",
              "      <td>11055.000000</td>\n",
              "      <td>11055.000000</td>\n",
              "      <td>11055.000000</td>\n",
              "      <td>11055.000000</td>\n",
              "      <td>11055.000000</td>\n",
              "      <td>11055.000000</td>\n",
              "    </tr>\n",
              "    <tr>\n",
              "      <th>mean</th>\n",
              "      <td>5528.000000</td>\n",
              "      <td>0.313795</td>\n",
              "      <td>-0.633198</td>\n",
              "      <td>0.738761</td>\n",
              "      <td>0.700588</td>\n",
              "      <td>0.741474</td>\n",
              "      <td>-0.734962</td>\n",
              "      <td>0.063953</td>\n",
              "      <td>0.250927</td>\n",
              "      <td>-0.336771</td>\n",
              "      <td>...</td>\n",
              "      <td>0.613388</td>\n",
              "      <td>0.816915</td>\n",
              "      <td>0.061239</td>\n",
              "      <td>0.377114</td>\n",
              "      <td>0.287291</td>\n",
              "      <td>-0.483673</td>\n",
              "      <td>0.721574</td>\n",
              "      <td>0.344007</td>\n",
              "      <td>0.719584</td>\n",
              "      <td>0.113885</td>\n",
              "    </tr>\n",
              "    <tr>\n",
              "      <th>std</th>\n",
              "      <td>3191.447947</td>\n",
              "      <td>0.949534</td>\n",
              "      <td>0.766095</td>\n",
              "      <td>0.673998</td>\n",
              "      <td>0.713598</td>\n",
              "      <td>0.671011</td>\n",
              "      <td>0.678139</td>\n",
              "      <td>0.817518</td>\n",
              "      <td>0.911892</td>\n",
              "      <td>0.941629</td>\n",
              "      <td>...</td>\n",
              "      <td>0.789818</td>\n",
              "      <td>0.576784</td>\n",
              "      <td>0.998168</td>\n",
              "      <td>0.926209</td>\n",
              "      <td>0.827733</td>\n",
              "      <td>0.875289</td>\n",
              "      <td>0.692369</td>\n",
              "      <td>0.569944</td>\n",
              "      <td>0.694437</td>\n",
              "      <td>0.993539</td>\n",
              "    </tr>\n",
              "    <tr>\n",
              "      <th>min</th>\n",
              "      <td>1.000000</td>\n",
              "      <td>-1.000000</td>\n",
              "      <td>-1.000000</td>\n",
              "      <td>-1.000000</td>\n",
              "      <td>-1.000000</td>\n",
              "      <td>-1.000000</td>\n",
              "      <td>-1.000000</td>\n",
              "      <td>-1.000000</td>\n",
              "      <td>-1.000000</td>\n",
              "      <td>-1.000000</td>\n",
              "      <td>...</td>\n",
              "      <td>-1.000000</td>\n",
              "      <td>-1.000000</td>\n",
              "      <td>-1.000000</td>\n",
              "      <td>-1.000000</td>\n",
              "      <td>-1.000000</td>\n",
              "      <td>-1.000000</td>\n",
              "      <td>-1.000000</td>\n",
              "      <td>-1.000000</td>\n",
              "      <td>-1.000000</td>\n",
              "      <td>-1.000000</td>\n",
              "    </tr>\n",
              "    <tr>\n",
              "      <th>25%</th>\n",
              "      <td>2764.500000</td>\n",
              "      <td>-1.000000</td>\n",
              "      <td>-1.000000</td>\n",
              "      <td>1.000000</td>\n",
              "      <td>1.000000</td>\n",
              "      <td>1.000000</td>\n",
              "      <td>-1.000000</td>\n",
              "      <td>-1.000000</td>\n",
              "      <td>-1.000000</td>\n",
              "      <td>-1.000000</td>\n",
              "      <td>...</td>\n",
              "      <td>1.000000</td>\n",
              "      <td>1.000000</td>\n",
              "      <td>-1.000000</td>\n",
              "      <td>-1.000000</td>\n",
              "      <td>0.000000</td>\n",
              "      <td>-1.000000</td>\n",
              "      <td>1.000000</td>\n",
              "      <td>0.000000</td>\n",
              "      <td>1.000000</td>\n",
              "      <td>-1.000000</td>\n",
              "    </tr>\n",
              "    <tr>\n",
              "      <th>50%</th>\n",
              "      <td>5528.000000</td>\n",
              "      <td>1.000000</td>\n",
              "      <td>-1.000000</td>\n",
              "      <td>1.000000</td>\n",
              "      <td>1.000000</td>\n",
              "      <td>1.000000</td>\n",
              "      <td>-1.000000</td>\n",
              "      <td>0.000000</td>\n",
              "      <td>1.000000</td>\n",
              "      <td>-1.000000</td>\n",
              "      <td>...</td>\n",
              "      <td>1.000000</td>\n",
              "      <td>1.000000</td>\n",
              "      <td>1.000000</td>\n",
              "      <td>1.000000</td>\n",
              "      <td>1.000000</td>\n",
              "      <td>-1.000000</td>\n",
              "      <td>1.000000</td>\n",
              "      <td>0.000000</td>\n",
              "      <td>1.000000</td>\n",
              "      <td>1.000000</td>\n",
              "    </tr>\n",
              "    <tr>\n",
              "      <th>75%</th>\n",
              "      <td>8291.500000</td>\n",
              "      <td>1.000000</td>\n",
              "      <td>-1.000000</td>\n",
              "      <td>1.000000</td>\n",
              "      <td>1.000000</td>\n",
              "      <td>1.000000</td>\n",
              "      <td>-1.000000</td>\n",
              "      <td>1.000000</td>\n",
              "      <td>1.000000</td>\n",
              "      <td>1.000000</td>\n",
              "      <td>...</td>\n",
              "      <td>1.000000</td>\n",
              "      <td>1.000000</td>\n",
              "      <td>1.000000</td>\n",
              "      <td>1.000000</td>\n",
              "      <td>1.000000</td>\n",
              "      <td>1.000000</td>\n",
              "      <td>1.000000</td>\n",
              "      <td>1.000000</td>\n",
              "      <td>1.000000</td>\n",
              "      <td>1.000000</td>\n",
              "    </tr>\n",
              "    <tr>\n",
              "      <th>max</th>\n",
              "      <td>11055.000000</td>\n",
              "      <td>1.000000</td>\n",
              "      <td>1.000000</td>\n",
              "      <td>1.000000</td>\n",
              "      <td>1.000000</td>\n",
              "      <td>1.000000</td>\n",
              "      <td>1.000000</td>\n",
              "      <td>1.000000</td>\n",
              "      <td>1.000000</td>\n",
              "      <td>1.000000</td>\n",
              "      <td>...</td>\n",
              "      <td>1.000000</td>\n",
              "      <td>1.000000</td>\n",
              "      <td>1.000000</td>\n",
              "      <td>1.000000</td>\n",
              "      <td>1.000000</td>\n",
              "      <td>1.000000</td>\n",
              "      <td>1.000000</td>\n",
              "      <td>1.000000</td>\n",
              "      <td>1.000000</td>\n",
              "      <td>1.000000</td>\n",
              "    </tr>\n",
              "  </tbody>\n",
              "</table>\n",
              "<p>8 rows × 32 columns</p>\n",
              "</div>\n",
              "      <button class=\"colab-df-convert\" onclick=\"convertToInteractive('df-00cf4587-e563-4bfd-a4e9-d0b80be91481')\"\n",
              "              title=\"Convert this dataframe to an interactive table.\"\n",
              "              style=\"display:none;\">\n",
              "        \n",
              "  <svg xmlns=\"http://www.w3.org/2000/svg\" height=\"24px\"viewBox=\"0 0 24 24\"\n",
              "       width=\"24px\">\n",
              "    <path d=\"M0 0h24v24H0V0z\" fill=\"none\"/>\n",
              "    <path d=\"M18.56 5.44l.94 2.06.94-2.06 2.06-.94-2.06-.94-.94-2.06-.94 2.06-2.06.94zm-11 1L8.5 8.5l.94-2.06 2.06-.94-2.06-.94L8.5 2.5l-.94 2.06-2.06.94zm10 10l.94 2.06.94-2.06 2.06-.94-2.06-.94-.94-2.06-.94 2.06-2.06.94z\"/><path d=\"M17.41 7.96l-1.37-1.37c-.4-.4-.92-.59-1.43-.59-.52 0-1.04.2-1.43.59L10.3 9.45l-7.72 7.72c-.78.78-.78 2.05 0 2.83L4 21.41c.39.39.9.59 1.41.59.51 0 1.02-.2 1.41-.59l7.78-7.78 2.81-2.81c.8-.78.8-2.07 0-2.86zM5.41 20L4 18.59l7.72-7.72 1.47 1.35L5.41 20z\"/>\n",
              "  </svg>\n",
              "      </button>\n",
              "      \n",
              "  <style>\n",
              "    .colab-df-container {\n",
              "      display:flex;\n",
              "      flex-wrap:wrap;\n",
              "      gap: 12px;\n",
              "    }\n",
              "\n",
              "    .colab-df-convert {\n",
              "      background-color: #E8F0FE;\n",
              "      border: none;\n",
              "      border-radius: 50%;\n",
              "      cursor: pointer;\n",
              "      display: none;\n",
              "      fill: #1967D2;\n",
              "      height: 32px;\n",
              "      padding: 0 0 0 0;\n",
              "      width: 32px;\n",
              "    }\n",
              "\n",
              "    .colab-df-convert:hover {\n",
              "      background-color: #E2EBFA;\n",
              "      box-shadow: 0px 1px 2px rgba(60, 64, 67, 0.3), 0px 1px 3px 1px rgba(60, 64, 67, 0.15);\n",
              "      fill: #174EA6;\n",
              "    }\n",
              "\n",
              "    [theme=dark] .colab-df-convert {\n",
              "      background-color: #3B4455;\n",
              "      fill: #D2E3FC;\n",
              "    }\n",
              "\n",
              "    [theme=dark] .colab-df-convert:hover {\n",
              "      background-color: #434B5C;\n",
              "      box-shadow: 0px 1px 3px 1px rgba(0, 0, 0, 0.15);\n",
              "      filter: drop-shadow(0px 1px 2px rgba(0, 0, 0, 0.3));\n",
              "      fill: #FFFFFF;\n",
              "    }\n",
              "  </style>\n",
              "\n",
              "      <script>\n",
              "        const buttonEl =\n",
              "          document.querySelector('#df-00cf4587-e563-4bfd-a4e9-d0b80be91481 button.colab-df-convert');\n",
              "        buttonEl.style.display =\n",
              "          google.colab.kernel.accessAllowed ? 'block' : 'none';\n",
              "\n",
              "        async function convertToInteractive(key) {\n",
              "          const element = document.querySelector('#df-00cf4587-e563-4bfd-a4e9-d0b80be91481');\n",
              "          const dataTable =\n",
              "            await google.colab.kernel.invokeFunction('convertToInteractive',\n",
              "                                                     [key], {});\n",
              "          if (!dataTable) return;\n",
              "\n",
              "          const docLinkHtml = 'Like what you see? Visit the ' +\n",
              "            '<a target=\"_blank\" href=https://colab.research.google.com/notebooks/data_table.ipynb>data table notebook</a>'\n",
              "            + ' to learn more about interactive tables.';\n",
              "          element.innerHTML = '';\n",
              "          dataTable['output_type'] = 'display_data';\n",
              "          await google.colab.output.renderOutput(dataTable, element);\n",
              "          const docLink = document.createElement('div');\n",
              "          docLink.innerHTML = docLinkHtml;\n",
              "          element.appendChild(docLink);\n",
              "        }\n",
              "      </script>\n",
              "    </div>\n",
              "  </div>\n",
              "  "
            ]
          },
          "metadata": {},
          "execution_count": 34
        }
      ]
    },
    {
      "cell_type": "code",
      "source": [
        "data.isnull().any()\n"
      ],
      "metadata": {
        "colab": {
          "base_uri": "https://localhost:8080/"
        },
        "id": "nPPfSQeJnyBB",
        "outputId": "93df9a29-a9d0-4e5e-c9cc-52b8943985ee"
      },
      "execution_count": null,
      "outputs": [
        {
          "output_type": "execute_result",
          "data": {
            "text/plain": [
              "index                          False\n",
              "having_IPhaving_IP_Address     False\n",
              "URLURL_Length                  False\n",
              "Shortining_Service             False\n",
              "having_At_Symbol               False\n",
              "double_slash_redirecting       False\n",
              "Prefix_Suffix                  False\n",
              "having_Sub_Domain              False\n",
              "SSLfinal_State                 False\n",
              "Domain_registeration_length    False\n",
              "Favicon                        False\n",
              "port                           False\n",
              "HTTPS_token                    False\n",
              "Request_URL                    False\n",
              "URL_of_Anchor                  False\n",
              "Links_in_tags                  False\n",
              "SFH                            False\n",
              "Submitting_to_email            False\n",
              "Abnormal_URL                   False\n",
              "Redirect                       False\n",
              "on_mouseover                   False\n",
              "RightClick                     False\n",
              "popUpWidnow                    False\n",
              "Iframe                         False\n",
              "age_of_domain                  False\n",
              "DNSRecord                      False\n",
              "web_traffic                    False\n",
              "Page_Rank                      False\n",
              "Google_Index                   False\n",
              "Links_pointing_to_page         False\n",
              "Statistical_report             False\n",
              "Result                         False\n",
              "dtype: bool"
            ]
          },
          "metadata": {},
          "execution_count": 35
        }
      ]
    },
    {
      "cell_type": "code",
      "source": [
        "with sns.color_palette('muted'):\n",
        "    sns.countplot(x=data['Result'])"
      ],
      "metadata": {
        "colab": {
          "base_uri": "https://localhost:8080/",
          "height": 421
        },
        "id": "n8jwmYwGsZ--",
        "outputId": "1ad2790f-461a-49bd-f482-48e3331f825e"
      },
      "execution_count": null,
      "outputs": [
        {
          "output_type": "display_data",
          "data": {
            "text/plain": [
              "<Figure size 892.8x468 with 1 Axes>"
            ],
            "image/png": "[encoded data removed]"
          },
          "metadata": {}
        }
      ]
    },
    {
      "cell_type": "markdown",
      "source": [
        "Spliting the Data"
      ],
      "metadata": {
        "id": "hg7SolEen6Nx"
      }
    },
    {
      "cell_type": "code",
      "source": [
        "x=data.iloc[:,1:31].values\n",
        "y=data.iloc[:,-1].values\n",
        "print(x,y)"
      ],
      "metadata": {
        "colab": {
          "base_uri": "https://localhost:8080/"
        },
        "id": "jPitzSVw-HLb",
        "outputId": "2f4917ff-a2af-41c7-c152-9aab10e1eb71"
      },
      "execution_count": null,
      "outputs": [
        {
          "output_type": "stream",
          "name": "stdout",
          "text": [
            "[[-1  1  1 ...  1  1 -1]\n",
            " [ 1  1  1 ...  1  1  1]\n",
            " [ 1  0  1 ...  1  0 -1]\n",
            " ...\n",
            " [ 1 -1  1 ...  1  0  1]\n",
            " [-1 -1  1 ...  1  1  1]\n",
            " [-1 -1  1 ... -1  1 -1]] [-1 -1 -1 ... -1 -1 -1]\n"
          ]
        }
      ]
    },
    {
      "cell_type": "code",
      "source": [
        "from sklearn.model_selection import train_test_split\n",
        "x_train,x_test,y_train,y_test = train_test_split(x,y,test_size=0.2,random_state=0)"
      ],
      "metadata": {
        "id": "gUd708gIMFN-"
      },
      "execution_count": null,
      "outputs": []
    },
    {
      "cell_type": "markdown",
      "source": [
        "MODEL BUILDING"
      ],
      "metadata": {
        "id": "a7TMYGoO47j8"
      }
    },
    {
      "cell_type": "code",
      "source": [
        "from sklearn.metrics import accuracy_score, classification_report\n"
      ],
      "metadata": {
        "id": "KiUJ1fQ15E3L"
      },
      "execution_count": null,
      "outputs": []
    },
    {
      "cell_type": "code",
      "source": [
        "from sklearn.tree import DecisionTreeClassifier\n",
        "\n",
        "dt=DecisionTreeClassifier()\n",
        "\n",
        "dt.fit(x_train,y_train)\n",
        "prediction_dt = dt.predict(x_test)\n",
        "\n",
        "accuracy_dt = accuracy_score(y_test,prediction_dt)*100\n",
        "scores_dict = {}"
      ],
      "metadata": {
        "id": "QWqIFswN5TuO"
      },
      "execution_count": null,
      "outputs": []
    },
    {
      "cell_type": "code",
      "source": [
        "print('Accuracy score : ',accuracy_dt)\n",
        "scores_dict['DecisionTreeClassifier'] = accuracy_dt\n",
        "print(classification_report(y_test,prediction_dt))"
      ],
      "metadata": {
        "id": "Xr5VWXED5XfO",
        "colab": {
          "base_uri": "https://localhost:8080/"
        },
        "outputId": "4de18e71-beaa-499a-8217-8ac3f001d247"
      },
      "execution_count": null,
      "outputs": [
        {
          "output_type": "stream",
          "name": "stdout",
          "text": [
            "Accuracy score :  96.29127091813659\n",
            "              precision    recall  f1-score   support\n",
            "\n",
            "          -1       0.97      0.95      0.96      1014\n",
            "           1       0.96      0.97      0.97      1197\n",
            "\n",
            "    accuracy                           0.96      2211\n",
            "   macro avg       0.96      0.96      0.96      2211\n",
            "weighted avg       0.96      0.96      0.96      2211\n",
            "\n"
          ]
        }
      ]
    },
    {
      "cell_type": "code",
      "source": [
        "dt.feature_importances_\n"
      ],
      "metadata": {
        "id": "wVm9PjRw5gxD",
        "colab": {
          "base_uri": "https://localhost:8080/"
        },
        "outputId": "c958900d-59ec-4e46-818d-44eb42a77747"
      },
      "execution_count": null,
      "outputs": [
        {
          "output_type": "execute_result",
          "data": {
            "text/plain": [
              "array([0.00670296, 0.00915202, 0.00221082, 0.00253158, 0.00252531,\n",
              "       0.01919344, 0.03140978, 0.6266906 , 0.01606331, 0.00351431,\n",
              "       0.00088964, 0.00331379, 0.00950346, 0.1080854 , 0.03353911,\n",
              "       0.01092181, 0.00654249, 0.00225756, 0.00531866, 0.00278258,\n",
              "       0.00194295, 0.00161739, 0.00125276, 0.01485269, 0.00936112,\n",
              "       0.02801932, 0.00601803, 0.01058724, 0.01956089, 0.00363899])"
            ]
          },
          "metadata": {},
          "execution_count": 29
        }
      ]
    },
    {
      "cell_type": "code",
      "source": [
        "from sklearn.linear_model import LogisticRegression\n",
        "lr=LogisticRegression()\n",
        "lr.fit(x_train,y_train)"
      ],
      "metadata": {
        "colab": {
          "base_uri": "https://localhost:8080/"
        },
        "id": "6EvPmyFZZZLK",
        "outputId": "560daae9-6820-452c-a8c3-1fc4794d89fd"
      },
      "execution_count": null,
      "outputs": [
        {
          "output_type": "execute_result",
          "data": {
            "text/plain": [
              "LogisticRegression()"
            ]
          },
          "metadata": {},
          "execution_count": 30
        }
      ]
    },
    {
      "cell_type": "code",
      "source": [
        "y_pred1=lr.predict(x_test)\n",
        "from sklearn.metrics import accuracy_score\n",
        "log_reg=accuracy_score(y_test,y_pred1)\n",
        "log_reg"
      ],
      "metadata": {
        "colab": {
          "base_uri": "https://localhost:8080/"
        },
        "id": "Ah14q0WKaKBR",
        "outputId": "08095257-85b4-4c80-e4f3-e1fe767e24fd"
      },
      "execution_count": null,
      "outputs": [
        {
          "output_type": "execute_result",
          "data": {
            "text/plain": [
              "0.9167797376752601"
            ]
          },
          "metadata": {},
          "execution_count": 31
        }
      ]
    },
    {
      "cell_type": "code",
      "source": [
        "scores_dict['LogisticRegression'] = log_reg"
      ],
      "metadata": {
        "id": "MJknLzUp5rwM"
      },
      "execution_count": null,
      "outputs": []
    },
    {
      "cell_type": "code",
      "source": [
        "algo_name = list(scores_dict.keys())\n",
        "accuracy_list = list(scores_dict.values())\n",
        "\n",
        "sns.set(rc={'figure.figsize':(12.4,6.5)})\n",
        "with sns.color_palette('muted'):\n",
        "    sns.barplot(x=algo_name,y=accuracy_list)"
      ],
      "metadata": {
        "id": "aLWiXShE5ugh",
        "colab": {
          "base_uri": "https://localhost:8080/",
          "height": 404
        },
        "outputId": "c96cee25-a664-4b90-83de-d9a9a2e5b061"
      },
      "execution_count": null,
      "outputs": [
        {
          "output_type": "display_data",
          "data": {
            "text/plain": [
              "<Figure size 892.8x468 with 1 Axes>"
            ],
            "image/png": "[encoded data removed]"
          },
          "metadata": {}
        }
      ]
    }
  ],
  "metadata": {
    "colab": {
      "provenance": [],
      "collapsed_sections": []
    },
    "kernelspec": {
      "display_name": "Python 3",
      "name": "python3"
    },
    "language_info": {
      "name": "python"
    }
  },
  "nbformat": 4,
  "nbformat_minor": 0
}